{
 "cells": [
  {
   "cell_type": "code",
   "execution_count": 16,
   "id": "a8343924",
   "metadata": {},
   "outputs": [
    {
     "name": "stdout",
     "output_type": "stream",
     "text": [
      "Collecting google_images_download\n",
      "  Downloading google_images_download-2.8.0.tar.gz (14 kB)\n",
      "  Preparing metadata (setup.py) ... \u001b[?25ldone\n",
      "\u001b[?25hCollecting selenium (from google_images_download)\n",
      "  Obtaining dependency information for selenium from https://files.pythonhosted.org/packages/10/56/8288d1813a68c1e0638515dbb777fce6d87d0d240e683216f956145310e6/selenium-4.11.2-py3-none-any.whl.metadata\n",
      "  Downloading selenium-4.11.2-py3-none-any.whl.metadata (7.0 kB)\n",
      "Requirement already satisfied: urllib3[socks]<3,>=1.26 in /home/shubham/anaconda3/envs/surveillance/lib/python3.10/site-packages (from selenium->google_images_download) (1.26.16)\n",
      "Collecting trio~=0.17 (from selenium->google_images_download)\n",
      "  Obtaining dependency information for trio~=0.17 from https://files.pythonhosted.org/packages/a3/dd/b61fa61b186d3267ef3903048fbee29132963ae762fb70b08d4a3cd6f7aa/trio-0.22.2-py3-none-any.whl.metadata\n",
      "  Downloading trio-0.22.2-py3-none-any.whl.metadata (4.7 kB)\n",
      "Collecting trio-websocket~=0.9 (from selenium->google_images_download)\n",
      "  Obtaining dependency information for trio-websocket~=0.9 from https://files.pythonhosted.org/packages/a5/a6/06e2373f95c12e9e8f6b910a76c86e375348ead77ab476230640666310fb/trio_websocket-0.10.3-py3-none-any.whl.metadata\n",
      "  Downloading trio_websocket-0.10.3-py3-none-any.whl.metadata (4.6 kB)\n",
      "Requirement already satisfied: certifi>=2021.10.8 in /home/shubham/anaconda3/envs/surveillance/lib/python3.10/site-packages (from selenium->google_images_download) (2023.7.22)\n",
      "Requirement already satisfied: attrs>=20.1.0 in /home/shubham/anaconda3/envs/surveillance/lib/python3.10/site-packages (from trio~=0.17->selenium->google_images_download) (22.1.0)\n",
      "Requirement already satisfied: sortedcontainers in /home/shubham/anaconda3/envs/surveillance/lib/python3.10/site-packages (from trio~=0.17->selenium->google_images_download) (2.4.0)\n",
      "Requirement already satisfied: idna in /home/shubham/anaconda3/envs/surveillance/lib/python3.10/site-packages (from trio~=0.17->selenium->google_images_download) (3.4)\n",
      "Collecting outcome (from trio~=0.17->selenium->google_images_download)\n",
      "  Downloading outcome-1.2.0-py2.py3-none-any.whl (9.7 kB)\n",
      "Requirement already satisfied: sniffio in /home/shubham/anaconda3/envs/surveillance/lib/python3.10/site-packages (from trio~=0.17->selenium->google_images_download) (1.2.0)\n",
      "Requirement already satisfied: exceptiongroup>=1.0.0rc9 in /home/shubham/anaconda3/envs/surveillance/lib/python3.10/site-packages (from trio~=0.17->selenium->google_images_download) (1.1.2)\n",
      "Collecting wsproto>=0.14 (from trio-websocket~=0.9->selenium->google_images_download)\n",
      "  Downloading wsproto-1.2.0-py3-none-any.whl (24 kB)\n",
      "Requirement already satisfied: PySocks!=1.5.7,<2.0,>=1.5.6 in /home/shubham/anaconda3/envs/surveillance/lib/python3.10/site-packages (from urllib3[socks]<3,>=1.26->selenium->google_images_download) (1.7.1)\n",
      "Collecting h11<1,>=0.9.0 (from wsproto>=0.14->trio-websocket~=0.9->selenium->google_images_download)\n",
      "  Downloading h11-0.14.0-py3-none-any.whl (58 kB)\n",
      "\u001b[2K     \u001b[38;2;114;156;31m━━━━━━━━━━━━━━━━━━━━━━━━━━━━━━━━━━━━━━━━\u001b[0m \u001b[32m58.3/58.3 kB\u001b[0m \u001b[31m6.8 MB/s\u001b[0m eta \u001b[36m0:00:00\u001b[0m\n",
      "\u001b[?25hDownloading selenium-4.11.2-py3-none-any.whl (7.2 MB)\n",
      "\u001b[2K   \u001b[38;2;114;156;31m━━━━━━━━━━━━━━━━━━━━━━━━━━━━━━━━━━━━━━━━\u001b[0m \u001b[32m7.2/7.2 MB\u001b[0m \u001b[31m3.9 MB/s\u001b[0m eta \u001b[36m0:00:00\u001b[0mm eta \u001b[36m0:00:01\u001b[0m[36m0:00:01\u001b[0mm\n",
      "\u001b[?25hDownloading trio-0.22.2-py3-none-any.whl (400 kB)\n",
      "\u001b[2K   \u001b[38;2;114;156;31m━━━━━━━━━━━━━━━━━━━━━━━━━━━━━━━━━━━━━━━━\u001b[0m \u001b[32m400.2/400.2 kB\u001b[0m \u001b[31m11.2 MB/s\u001b[0m eta \u001b[36m0:00:00\u001b[0mm eta \u001b[36m0:00:01\u001b[0m\n",
      "\u001b[?25hDownloading trio_websocket-0.10.3-py3-none-any.whl (17 kB)\n",
      "Building wheels for collected packages: google_images_download\n",
      "  Building wheel for google_images_download (setup.py) ... \u001b[?25ldone\n",
      "\u001b[?25h  Created wheel for google_images_download: filename=google_images_download-2.8.0-py2.py3-none-any.whl size=14534 sha256=e45c1263450adc31eb18dedcf6cbe5c94d5801a047d9ae8e3b318281a018aed0\n",
      "  Stored in directory: /home/shubham/.cache/pip/wheels/5b/f2/64/0eecb22fee5cbc0321d332492ddcc45b03c6373b5616ee95c8\n",
      "Successfully built google_images_download\n",
      "Installing collected packages: outcome, h11, wsproto, trio, trio-websocket, selenium, google_images_download\n",
      "Successfully installed google_images_download-2.8.0 h11-0.14.0 outcome-1.2.0 selenium-4.11.2 trio-0.22.2 trio-websocket-0.10.3 wsproto-1.2.0\n"
     ]
    }
   ],
   "source": [
    "!pip install google_images_download\n"
   ]
  },
  {
   "cell_type": "code",
   "execution_count": 18,
   "id": "5f58c09d",
   "metadata": {},
   "outputs": [
    {
     "name": "stdout",
     "output_type": "stream",
     "text": [
      "\n",
      "Item no.: 1 --> Item name = pen\n",
      "Evaluating...\n",
      "Starting Download...\n",
      "\n",
      "\n",
      "Unfortunately all 60 could not be downloaded because some images were not downloadable. 0 is all we got for this search filter!\n",
      "\n",
      "Errors: 0\n",
      "\n",
      "\n",
      "Item no.: 1 --> Item name = ball_pen\n",
      "Evaluating...\n",
      "Starting Download...\n",
      "\n",
      "\n",
      "Unfortunately all 60 could not be downloaded because some images were not downloadable. 0 is all we got for this search filter!\n",
      "\n",
      "Errors: 0\n",
      "\n",
      "\n",
      "Item no.: 1 --> Item name = jell_pen\n",
      "Evaluating...\n",
      "Starting Download...\n",
      "\n",
      "\n",
      "Unfortunately all 60 could not be downloaded because some images were not downloadable. 0 is all we got for this search filter!\n",
      "\n",
      "Errors: 0\n",
      "\n",
      "\n",
      "Item no.: 1 --> Item name = pistol\n",
      "Evaluating...\n",
      "Starting Download...\n",
      "\n",
      "\n",
      "Unfortunately all 60 could not be downloaded because some images were not downloadable. 0 is all we got for this search filter!\n",
      "\n",
      "Errors: 0\n",
      "\n",
      "\n",
      "Item no.: 1 --> Item name = handgun\n",
      "Evaluating...\n",
      "Starting Download...\n",
      "\n",
      "\n",
      "Unfortunately all 60 could not be downloaded because some images were not downloadable. 0 is all we got for this search filter!\n",
      "\n",
      "Errors: 0\n",
      "\n"
     ]
    }
   ],
   "source": [
    "from google_images_download import google_images_download\n",
    "\n",
    "keywords = [\"pistol\", \"revolver\", \"rifle\", \"shotgun\", \"carbine\", \"machine gun\", \"assault rifle\", \"submachine gun\",\n",
    "            \"sniper rifle\", \"pump-action shotgun\", \"semi-automatic rifle\", \"double-barrel shotgun\",\n",
    "            \"bolt-action rifle\", \"semi-automatic pistol\", \"9mm pistol\", \"12 bore shotgun\",\n",
    "            \"AK-47\", \"INSAS rifle\", \"SLR rifle\", \"Glock pistol\", \"Beretta pistol\", \"Smith & Wesson revolver\",\n",
    "            \"Mauser pistol\", \"Winchester rifle\", \"MP5 submachine gun\", \"Thompson submachine gun\", \"Lee-Enfield rifle\",\n",
    "            \"M1 Garand rifle\", \"Colt M1911 pistol\", \"ak-47\", \"knife\", \"gun\", \"sword\", \"hammer\", \"axe\", \"bat\", \"machete\", \"crossbow\",\n",
    "            \"grenade\", \"dagger\", \"spear\", \"bow\", \"chainsaw\", \"shuriken\", \"brass knuckles\", \"nunchaku\", \"mace\", \"boomerang\", \"throwing knife\", \"stun gun\",\n",
    "            \"taser\", \"pepper spray\", \"whip\", \"tactical pen\", \"slingshot\", \"battle-ax\", \"blowgun\", \"scythe\", \"trident\", \"tomahawk\", \"kunai\", \"claw\", \"throwing star\",\n",
    "            \"numchucks\", \"club\", \"flail\", \"sai\", \"sling\", \"karambit\", \"katar\", \"escrima sticks\", \"warhammer\", \"katana\", \"morning star\", \"rapier\", \"shiv\", \"battlehammer\",\n",
    "            \"sledgehammer\", \"morningstar\",\n",
    "            \"throwing axe\",\n",
    "            \"bo staff\", \"war pick\", \"kusarigama\", \"quarterstaff\", \"war scythe\", \"bola\", \"claymore\", \"cudgel\", \"nail bat\", \"blow dart\", \"javelin\", \"military flail\",\n",
    "            \"Army\", \"CRPF\", \"DelhiPolice\", \"terrorist\", \"publicphoto\", \"fighting\"]\n",
    "keyword=['pen','ball_pen','jell_pen','pistol','handgun']\n",
    "\n",
    "for key in keyword:\n",
    "    response = google_images_download.googleimagesdownload()\n",
    "    arguments = {\"keywords\": key, \"limit\": 60, \"print_urls\": False}\n",
    "    paths = response.download(arguments)\n",
    "\n"
   ]
  },
  {
   "cell_type": "code",
   "execution_count": 21,
   "id": "96b41c32",
   "metadata": {},
   "outputs": [
    {
     "name": "stdout",
     "output_type": "stream",
     "text": [
      "ERROR: unknown command \"upgrade\"\r\n"
     ]
    }
   ],
   "source": []
  },
  {
   "cell_type": "code",
   "execution_count": 20,
   "id": "702aefbc",
   "metadata": {},
   "outputs": [
    {
     "name": "stdout",
     "output_type": "stream",
     "text": [
      "Requirement already satisfied: python-magic==0.4.15 in /home/shubham/anaconda3/envs/surveillance/lib/python3.10/site-packages (0.4.15)\r\n"
     ]
    }
   ],
   "source": [
    "!pip install python-magic==0.4.15"
   ]
  },
  {
   "cell_type": "code",
   "execution_count": null,
   "id": "a3dca5f0",
   "metadata": {},
   "outputs": [],
   "source": []
  }
 ],
 "metadata": {
  "kernelspec": {
   "display_name": "surveillance",
   "language": "python",
   "name": "surveillance"
  },
  "language_info": {
   "codemirror_mode": {
    "name": "ipython",
    "version": 3
   },
   "file_extension": ".py",
   "mimetype": "text/x-python",
   "name": "python",
   "nbconvert_exporter": "python",
   "pygments_lexer": "ipython3",
   "version": "3.8.17"
  }
 },
 "nbformat": 4,
 "nbformat_minor": 5
}
