{
 "cells": [
  {
   "cell_type": "code",
   "execution_count": 2,
   "id": "3d4bca0a-92db-41e4-b730-675b0ae14411",
   "metadata": {},
   "outputs": [],
   "source": [
    "import os"
   ]
  },
  {
   "cell_type": "code",
   "execution_count": 4,
   "id": "c70078d5-08e7-4ef2-9351-747036f766a7",
   "metadata": {},
   "outputs": [
    {
     "name": "stdout",
     "output_type": "stream",
     "text": [
      "Cloning into 'OIDv4_ToolKit'...\n",
      "remote: Enumerating objects: 422, done.\u001b[K\n",
      "remote: Total 422 (delta 0), reused 0 (delta 0), pack-reused 422\u001b[K\n",
      "Receiving objects: 100% (422/422), 34.08 MiB | 2.54 MiB/s, done.\n",
      "Resolving deltas: 100% (146/146), done.\n",
      "Requirement already satisfied: pandas in /home/shubham/anaconda3/envs/surveillance/lib/python3.10/site-packages (from -r OIDv4_ToolKit/requirements.txt (line 1)) (2.0.3)\n",
      "Requirement already satisfied: numpy in /home/shubham/anaconda3/envs/surveillance/lib/python3.10/site-packages (from -r OIDv4_ToolKit/requirements.txt (line 2)) (1.25.2)\n",
      "Requirement already satisfied: awscli in /home/shubham/anaconda3/envs/surveillance/lib/python3.10/site-packages (from -r OIDv4_ToolKit/requirements.txt (line 3)) (1.29.18)\n",
      "Requirement already satisfied: urllib3 in /home/shubham/anaconda3/envs/surveillance/lib/python3.10/site-packages (from -r OIDv4_ToolKit/requirements.txt (line 5)) (1.26.16)\n",
      "Requirement already satisfied: tqdm in /home/shubham/anaconda3/envs/surveillance/lib/python3.10/site-packages (from -r OIDv4_ToolKit/requirements.txt (line 7)) (4.65.0)\n",
      "Requirement already satisfied: opencv-python in /home/shubham/anaconda3/envs/surveillance/lib/python3.10/site-packages (from -r OIDv4_ToolKit/requirements.txt (line 9)) (4.8.0.74)\n",
      "Requirement already satisfied: python-dateutil>=2.8.2 in /home/shubham/anaconda3/envs/surveillance/lib/python3.10/site-packages (from pandas->-r OIDv4_ToolKit/requirements.txt (line 1)) (2.8.2)\n",
      "Requirement already satisfied: pytz>=2020.1 in /home/shubham/anaconda3/envs/surveillance/lib/python3.10/site-packages (from pandas->-r OIDv4_ToolKit/requirements.txt (line 1)) (2022.7)\n",
      "Requirement already satisfied: tzdata>=2022.1 in /home/shubham/anaconda3/envs/surveillance/lib/python3.10/site-packages (from pandas->-r OIDv4_ToolKit/requirements.txt (line 1)) (2023.3)\n",
      "Requirement already satisfied: botocore==1.31.18 in /home/shubham/anaconda3/envs/surveillance/lib/python3.10/site-packages (from awscli->-r OIDv4_ToolKit/requirements.txt (line 3)) (1.31.18)\n",
      "Requirement already satisfied: docutils<0.17,>=0.10 in /home/shubham/anaconda3/envs/surveillance/lib/python3.10/site-packages (from awscli->-r OIDv4_ToolKit/requirements.txt (line 3)) (0.16)\n",
      "Requirement already satisfied: s3transfer<0.7.0,>=0.6.0 in /home/shubham/anaconda3/envs/surveillance/lib/python3.10/site-packages (from awscli->-r OIDv4_ToolKit/requirements.txt (line 3)) (0.6.1)\n",
      "Requirement already satisfied: PyYAML<6.1,>=3.10 in /home/shubham/anaconda3/envs/surveillance/lib/python3.10/site-packages (from awscli->-r OIDv4_ToolKit/requirements.txt (line 3)) (6.0)\n",
      "Requirement already satisfied: colorama<0.4.5,>=0.2.5 in /home/shubham/anaconda3/envs/surveillance/lib/python3.10/site-packages (from awscli->-r OIDv4_ToolKit/requirements.txt (line 3)) (0.4.4)\n",
      "Requirement already satisfied: rsa<4.8,>=3.1.2 in /home/shubham/anaconda3/envs/surveillance/lib/python3.10/site-packages (from awscli->-r OIDv4_ToolKit/requirements.txt (line 3)) (4.7.2)\n",
      "Requirement already satisfied: jmespath<2.0.0,>=0.7.1 in /home/shubham/anaconda3/envs/surveillance/lib/python3.10/site-packages (from botocore==1.31.18->awscli->-r OIDv4_ToolKit/requirements.txt (line 3)) (1.0.1)\n",
      "Requirement already satisfied: six>=1.5 in /home/shubham/anaconda3/envs/surveillance/lib/python3.10/site-packages (from python-dateutil>=2.8.2->pandas->-r OIDv4_ToolKit/requirements.txt (line 1)) (1.16.0)\n",
      "Requirement already satisfied: pyasn1>=0.1.3 in /home/shubham/anaconda3/envs/surveillance/lib/python3.10/site-packages (from rsa<4.8,>=3.1.2->awscli->-r OIDv4_ToolKit/requirements.txt (line 3)) (0.5.0)\n"
     ]
    }
   ],
   "source": [
    "LEARNING_PATH=os.path.join(\"Img_tool\")\n",
    "if not  os.path.exists(LEARNING_PATH):\n",
    "    !git clone https://github.com/EscVM/OIDv4_ToolKit.git\n",
    "    !pip install -r OIDv4_ToolKit/requirements.txt\n",
    "    "
   ]
  },
  {
   "cell_type": "code",
   "execution_count": null,
   "id": "e6712dfc-8cdf-4c28-bec8-1ca5271a1a6e",
   "metadata": {},
   "outputs": [
    {
     "name": "stdout",
     "output_type": "stream",
     "text": [
      "\u001b[92m\n",
      "\t\t   ___   _____  ______            _    _    \n",
      "\t\t .'   `.|_   _||_   _ `.         | |  | |   \n",
      "\t\t/  .-.  \\ | |    | | `. \\ _   __ | |__| |_  \n",
      "\t\t| |   | | | |    | |  | |[ \\ [  ]|____   _| \n",
      "\t\t\\  `-'  /_| |_  _| |_.' / \\ \\/ /     _| |_  \n",
      "\t\t `.___.'|_____||______.'   \\__/     |_____|\n",
      "\t\u001b[0m\n",
      "\u001b[92m\n",
      "             _____                    _                 _             \n",
      "            (____ \\                  | |               | |            \n",
      "             _   \\ \\ ___  _ _ _ ____ | | ___   ____  _ | | ____  ____ \n",
      "            | |   | / _ \\| | | |  _ \\| |/ _ \\ / _  |/ || |/ _  )/ ___)\n",
      "            | |__/ / |_| | | | | | | | | |_| ( ( | ( (_| ( (/ /| |    \n",
      "            |_____/ \\___/ \\____|_| |_|_|\\___/ \\_||_|\\____|\\____)_|    \n",
      "                                                          \n",
      "        \u001b[0m\n",
      "    [INFO] | Downloading ['knife', 'pen', 'pistol'] together.\u001b[0m\n",
      "\u001b[91m   [ERROR] | Missing the class-descriptions-boxable.csv file.\u001b[0m\n",
      "\u001b[94m[DOWNLOAD] | Do you want to download the missing file? [Y/n] \u001b[0m"
     ]
    }
   ],
   "source": [
    "!python main.py downloader --classes Pen Handgun --type_csv train --multiclass 1 --limit 1000"
   ]
  },
  {
   "cell_type": "code",
   "execution_count": null,
   "id": "8e16f3c8-29b2-4aa1-b517-cb43d8235063",
   "metadata": {},
   "outputs": [],
   "source": []
  }
 ],
 "metadata": {
  "kernelspec": {
   "display_name": "surveillance",
   "language": "python",
   "name": "surveillance"
  },
  "language_info": {
   "codemirror_mode": {
    "name": "ipython",
    "version": 3
   },
   "file_extension": ".py",
   "mimetype": "text/x-python",
   "name": "python",
   "nbconvert_exporter": "python",
   "pygments_lexer": "ipython3",
   "version": "3.8.17"
  }
 },
 "nbformat": 4,
 "nbformat_minor": 5
}
