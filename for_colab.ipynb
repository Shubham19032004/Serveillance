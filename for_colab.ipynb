{
 "cells": [
  {
   "cell_type": "code",
   "execution_count": 5,
   "id": "c3fd36ec",
   "metadata": {},
   "outputs": [],
   "source": [
    "import os"
   ]
  },
  {
   "cell_type": "code",
   "execution_count": 6,
   "id": "34b5c57c",
   "metadata": {},
   "outputs": [],
   "source": [
    "TRAIN_PATH=os.path.join('Tensorflow','workspace','images','train')\n",
    "TEST_PATH=os.path.join('Tensorflow','workspace','images','test')\n",
    "ARCHIVE_PATH=os.path.join('Tensorflow','workspace','images','archive.tar.gz')\n",
    "\n",
    "!tar -czf {ARCHIVE_PATH} {TRAIN_PATH} {TEST_PATH}\n",
    "\n"
   ]
  },
  {
   "cell_type": "code",
   "execution_count": null,
   "id": "d9e9385c",
   "metadata": {},
   "outputs": [],
   "source": []
  }
 ],
 "metadata": {
  "kernelspec": {
   "display_name": "surveillance",
   "language": "python",
   "name": "surveillance"
  },
  "language_info": {
   "codemirror_mode": {
    "name": "ipython",
    "version": 3
   },
   "file_extension": ".py",
   "mimetype": "text/x-python",
   "name": "python",
   "nbconvert_exporter": "python",
   "pygments_lexer": "ipython3",
   "version": "3.8.17"
  }
 },
 "nbformat": 4,
 "nbformat_minor": 5
}
