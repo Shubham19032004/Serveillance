{
 "cells": [
  {
   "cell_type": "code",
   "execution_count": 1,
   "id": "386a5ba7-d82c-4fbe-be8f-b21c9eecaf6d",
   "metadata": {},
   "outputs": [
    {
     "name": "stdout",
     "output_type": "stream",
     "text": [
      "Cloning into 'label'...\n",
      "remote: Enumerating objects: 2097, done.\u001b[K\n",
      "remote: Counting objects: 100% (7/7), done.\u001b[K\n",
      "remote: Compressing objects: 100% (7/7), done.\u001b[K\n",
      "remote: Total 2097 (delta 0), reused 4 (delta 0), pack-reused 2090\u001b[K\n",
      "Receiving objects: 100% (2097/2097), 237.14 MiB | 2.92 MiB/s, done.\n",
      "Resolving deltas: 100% (1245/1245), done.\n",
      "make: *** No rule to make target 'qt5py3'.  Stop.\n",
      "/home/shubham/anaconda3/envs/surveillance/bin/pyrcc5: File does not exist 'resources.qrc'\n",
      "/bin/bash: line 1: pyhton: command not found\n"
     ]
    }
   ],
   "source": [
    "import os\n",
    "\n",
    "LEARNING_PATH = os.path.join(\"label\")\n",
    "\n",
    "if not os.path.exists(LEARNING_PATH):\n",
    "    !mkdir {LEARNING_PATH}\n",
    "    !git clone https://github.com/tzutalin/labelImg {LEARNING_PATH}\n",
    "\n",
    "if os.name=='posix': #lunix\n",
    "    !make qt5py3\n",
    "if os.name=='nt': #windows\n",
    "    !cd {LEARNING_PATH}&& pyrcc5 -o libs/resources.py resources.qrc\n"
   ]
  },
  {
   "cell_type": "markdown",
   "id": "d89f7340-29b5-48a1-abc1-7f62f8546cf0",
   "metadata": {},
   "source": [
    "\n",
    "\n"
   ]
  },
  {
   "cell_type": "code",
   "execution_count": null,
   "id": "51651cc2-c379-4ffd-9757-a33af4a3e13c",
   "metadata": {},
   "outputs": [],
   "source": [
    "!cd label\n",
    "!pyrcc5 -o libs/resources.py resources.qrc\n",
    "!pyhton labelImg.py"
   ]
  },
  {
   "cell_type": "code",
   "execution_count": null,
   "id": "97abf0d0-c895-4689-b5ec-53a3aee2719c",
   "metadata": {},
   "outputs": [],
   "source": []
  },
  {
   "cell_type": "code",
   "execution_count": null,
   "id": "0d8d19d5-a74a-445f-af5e-eeadbb5ccd59",
   "metadata": {},
   "outputs": [],
   "source": []
  },
  {
   "cell_type": "code",
   "execution_count": null,
   "id": "a029b273-d2c2-4a40-9e7a-58eefc9fffd9",
   "metadata": {},
   "outputs": [],
   "source": [
    "\n"
   ]
  },
  {
   "cell_type": "code",
   "execution_count": null,
   "id": "e06f49b0-1c15-400d-962b-9aad8725f6ce",
   "metadata": {},
   "outputs": [],
   "source": []
  }
 ],
 "metadata": {
  "kernelspec": {
   "display_name": "surveillance",
   "language": "python",
   "name": "surveillance"
  },
  "language_info": {
   "codemirror_mode": {
    "name": "ipython",
    "version": 3
   },
   "file_extension": ".py",
   "mimetype": "text/x-python",
   "name": "python",
   "nbconvert_exporter": "python",
   "pygments_lexer": "ipython3",
   "version": "3.8.17"
  }
 },
 "nbformat": 4,
 "nbformat_minor": 5
}
